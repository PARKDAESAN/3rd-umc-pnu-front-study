{
  "nbformat": 4,
  "nbformat_minor": 0,
  "metadata": {
    "colab": {
      "provenance": [],
      "collapsed_sections": [],
      "include_colab_link": true
    },
    "kernelspec": {
      "name": "python3",
      "display_name": "Python 3"
    }
  },
  "cells": [
    {
      "cell_type": "markdown",
      "metadata": {
        "id": "view-in-github",
        "colab_type": "text"
      },
      "source": [
        "<a href=\"https://colab.research.google.com/github/PARKDAESAN/3rd-umc-pnu-front-study/blob/main/%EA%B3%BC%EC%A0%9C5_201927517_%EB%B0%95%EB%8C%80%EC%82%B0.ipynb\" target=\"_parent\"><img src=\"https://colab.research.google.com/assets/colab-badge.svg\" alt=\"Open In Colab\"/></a>"
      ]
    },
    {
      "cell_type": "code",
      "metadata": {
        "id": "KGGyblNtRivY"
      },
      "source": [
        "import os\n",
        "import pandas as pd\n",
        "import numpy as np\n",
        "import matplotlib.pyplot  as plt\n",
        "from sklearn.linear_model import LinearRegression\n",
        "from sklearn.model_selection import train_test_split\n",
        "from sklearn.metrics import mean_squared_error\n",
        "import scipy.stats as st\n",
        "from google.colab import drive"
      ],
      "execution_count": 257,
      "outputs": []
    },
    {
      "cell_type": "code",
      "metadata": {
        "id": "dzXABYHSRi7D",
        "colab": {
          "base_uri": "https://localhost:8080/"
        },
        "outputId": "90d24cda-2cb0-401d-c0ba-feb0e5cc00eb"
      },
      "source": [
        "drive.mount('/content/drive')"
      ],
      "execution_count": 258,
      "outputs": [
        {
          "output_type": "stream",
          "name": "stdout",
          "text": [
            "Drive already mounted at /content/drive; to attempt to forcibly remount, call drive.mount(\"/content/drive\", force_remount=True).\n"
          ]
        }
      ]
    },
    {
      "cell_type": "code",
      "metadata": {
        "id": "2KENJWJ3Ri7G",
        "colab": {
          "base_uri": "https://localhost:8080/",
          "height": 206
        },
        "outputId": "e4d82329-e115-4679-8a84-7642f9870c7f"
      },
      "source": [
        "data_path = \"/content/drive/My Drive/산업데이터과학/data/car.csv\" \n",
        "data = pd.read_csv(data_path)\n",
        "data.head()"
      ],
      "execution_count": 278,
      "outputs": [
        {
          "output_type": "execute_result",
          "data": {
            "text/plain": [
              "   Year  Kilometers_Driven Fuel_Type Owner_Type  Mileage  Engine   Power  \\\n",
              "0  2015              41000    Diesel      First    19.67    1582  126.20   \n",
              "1  2011              46000    Petrol      First    18.20    1199   88.70   \n",
              "2  2012              87000    Diesel      First    20.77    1248   88.76   \n",
              "3  2013              40670    Diesel     Second    15.20    1968  140.80   \n",
              "4  2013              86999    Diesel      First    23.08    1461   63.10   \n",
              "\n",
              "   Seats New_Price    Maker  Price  \n",
              "0    5.0       NaN  Hyundai  12.50  \n",
              "1    5.0      8.61    Honda   4.50  \n",
              "2    7.0       NaN   Maruti   6.00  \n",
              "3    5.0       NaN     Audi  17.74  \n",
              "4    5.0       NaN   Nissan   3.50  "
            ],
            "text/html": [
              "\n",
              "  <div id=\"df-5006622f-8dd0-4d06-8089-3fe8feec2286\">\n",
              "    <div class=\"colab-df-container\">\n",
              "      <div>\n",
              "<style scoped>\n",
              "    .dataframe tbody tr th:only-of-type {\n",
              "        vertical-align: middle;\n",
              "    }\n",
              "\n",
              "    .dataframe tbody tr th {\n",
              "        vertical-align: top;\n",
              "    }\n",
              "\n",
              "    .dataframe thead th {\n",
              "        text-align: right;\n",
              "    }\n",
              "</style>\n",
              "<table border=\"1\" class=\"dataframe\">\n",
              "  <thead>\n",
              "    <tr style=\"text-align: right;\">\n",
              "      <th></th>\n",
              "      <th>Year</th>\n",
              "      <th>Kilometers_Driven</th>\n",
              "      <th>Fuel_Type</th>\n",
              "      <th>Owner_Type</th>\n",
              "      <th>Mileage</th>\n",
              "      <th>Engine</th>\n",
              "      <th>Power</th>\n",
              "      <th>Seats</th>\n",
              "      <th>New_Price</th>\n",
              "      <th>Maker</th>\n",
              "      <th>Price</th>\n",
              "    </tr>\n",
              "  </thead>\n",
              "  <tbody>\n",
              "    <tr>\n",
              "      <th>0</th>\n",
              "      <td>2015</td>\n",
              "      <td>41000</td>\n",
              "      <td>Diesel</td>\n",
              "      <td>First</td>\n",
              "      <td>19.67</td>\n",
              "      <td>1582</td>\n",
              "      <td>126.20</td>\n",
              "      <td>5.0</td>\n",
              "      <td>NaN</td>\n",
              "      <td>Hyundai</td>\n",
              "      <td>12.50</td>\n",
              "    </tr>\n",
              "    <tr>\n",
              "      <th>1</th>\n",
              "      <td>2011</td>\n",
              "      <td>46000</td>\n",
              "      <td>Petrol</td>\n",
              "      <td>First</td>\n",
              "      <td>18.20</td>\n",
              "      <td>1199</td>\n",
              "      <td>88.70</td>\n",
              "      <td>5.0</td>\n",
              "      <td>8.61</td>\n",
              "      <td>Honda</td>\n",
              "      <td>4.50</td>\n",
              "    </tr>\n",
              "    <tr>\n",
              "      <th>2</th>\n",
              "      <td>2012</td>\n",
              "      <td>87000</td>\n",
              "      <td>Diesel</td>\n",
              "      <td>First</td>\n",
              "      <td>20.77</td>\n",
              "      <td>1248</td>\n",
              "      <td>88.76</td>\n",
              "      <td>7.0</td>\n",
              "      <td>NaN</td>\n",
              "      <td>Maruti</td>\n",
              "      <td>6.00</td>\n",
              "    </tr>\n",
              "    <tr>\n",
              "      <th>3</th>\n",
              "      <td>2013</td>\n",
              "      <td>40670</td>\n",
              "      <td>Diesel</td>\n",
              "      <td>Second</td>\n",
              "      <td>15.20</td>\n",
              "      <td>1968</td>\n",
              "      <td>140.80</td>\n",
              "      <td>5.0</td>\n",
              "      <td>NaN</td>\n",
              "      <td>Audi</td>\n",
              "      <td>17.74</td>\n",
              "    </tr>\n",
              "    <tr>\n",
              "      <th>4</th>\n",
              "      <td>2013</td>\n",
              "      <td>86999</td>\n",
              "      <td>Diesel</td>\n",
              "      <td>First</td>\n",
              "      <td>23.08</td>\n",
              "      <td>1461</td>\n",
              "      <td>63.10</td>\n",
              "      <td>5.0</td>\n",
              "      <td>NaN</td>\n",
              "      <td>Nissan</td>\n",
              "      <td>3.50</td>\n",
              "    </tr>\n",
              "  </tbody>\n",
              "</table>\n",
              "</div>\n",
              "      <button class=\"colab-df-convert\" onclick=\"convertToInteractive('df-5006622f-8dd0-4d06-8089-3fe8feec2286')\"\n",
              "              title=\"Convert this dataframe to an interactive table.\"\n",
              "              style=\"display:none;\">\n",
              "        \n",
              "  <svg xmlns=\"http://www.w3.org/2000/svg\" height=\"24px\"viewBox=\"0 0 24 24\"\n",
              "       width=\"24px\">\n",
              "    <path d=\"M0 0h24v24H0V0z\" fill=\"none\"/>\n",
              "    <path d=\"M18.56 5.44l.94 2.06.94-2.06 2.06-.94-2.06-.94-.94-2.06-.94 2.06-2.06.94zm-11 1L8.5 8.5l.94-2.06 2.06-.94-2.06-.94L8.5 2.5l-.94 2.06-2.06.94zm10 10l.94 2.06.94-2.06 2.06-.94-2.06-.94-.94-2.06-.94 2.06-2.06.94z\"/><path d=\"M17.41 7.96l-1.37-1.37c-.4-.4-.92-.59-1.43-.59-.52 0-1.04.2-1.43.59L10.3 9.45l-7.72 7.72c-.78.78-.78 2.05 0 2.83L4 21.41c.39.39.9.59 1.41.59.51 0 1.02-.2 1.41-.59l7.78-7.78 2.81-2.81c.8-.78.8-2.07 0-2.86zM5.41 20L4 18.59l7.72-7.72 1.47 1.35L5.41 20z\"/>\n",
              "  </svg>\n",
              "      </button>\n",
              "      \n",
              "  <style>\n",
              "    .colab-df-container {\n",
              "      display:flex;\n",
              "      flex-wrap:wrap;\n",
              "      gap: 12px;\n",
              "    }\n",
              "\n",
              "    .colab-df-convert {\n",
              "      background-color: #E8F0FE;\n",
              "      border: none;\n",
              "      border-radius: 50%;\n",
              "      cursor: pointer;\n",
              "      display: none;\n",
              "      fill: #1967D2;\n",
              "      height: 32px;\n",
              "      padding: 0 0 0 0;\n",
              "      width: 32px;\n",
              "    }\n",
              "\n",
              "    .colab-df-convert:hover {\n",
              "      background-color: #E2EBFA;\n",
              "      box-shadow: 0px 1px 2px rgba(60, 64, 67, 0.3), 0px 1px 3px 1px rgba(60, 64, 67, 0.15);\n",
              "      fill: #174EA6;\n",
              "    }\n",
              "\n",
              "    [theme=dark] .colab-df-convert {\n",
              "      background-color: #3B4455;\n",
              "      fill: #D2E3FC;\n",
              "    }\n",
              "\n",
              "    [theme=dark] .colab-df-convert:hover {\n",
              "      background-color: #434B5C;\n",
              "      box-shadow: 0px 1px 3px 1px rgba(0, 0, 0, 0.15);\n",
              "      filter: drop-shadow(0px 1px 2px rgba(0, 0, 0, 0.3));\n",
              "      fill: #FFFFFF;\n",
              "    }\n",
              "  </style>\n",
              "\n",
              "      <script>\n",
              "        const buttonEl =\n",
              "          document.querySelector('#df-5006622f-8dd0-4d06-8089-3fe8feec2286 button.colab-df-convert');\n",
              "        buttonEl.style.display =\n",
              "          google.colab.kernel.accessAllowed ? 'block' : 'none';\n",
              "\n",
              "        async function convertToInteractive(key) {\n",
              "          const element = document.querySelector('#df-5006622f-8dd0-4d06-8089-3fe8feec2286');\n",
              "          const dataTable =\n",
              "            await google.colab.kernel.invokeFunction('convertToInteractive',\n",
              "                                                     [key], {});\n",
              "          if (!dataTable) return;\n",
              "\n",
              "          const docLinkHtml = 'Like what you see? Visit the ' +\n",
              "            '<a target=\"_blank\" href=https://colab.research.google.com/notebooks/data_table.ipynb>data table notebook</a>'\n",
              "            + ' to learn more about interactive tables.';\n",
              "          element.innerHTML = '';\n",
              "          dataTable['output_type'] = 'display_data';\n",
              "          await google.colab.output.renderOutput(dataTable, element);\n",
              "          const docLink = document.createElement('div');\n",
              "          docLink.innerHTML = docLinkHtml;\n",
              "          element.appendChild(docLink);\n",
              "        }\n",
              "      </script>\n",
              "    </div>\n",
              "  </div>\n",
              "  "
            ]
          },
          "metadata": {},
          "execution_count": 278
        }
      ]
    },
    {
      "cell_type": "markdown",
      "metadata": {
        "id": "O0_KgVBnQUmS"
      },
      "source": [
        "# [과제] 회귀 모형을 이용하여 과제용 데이터(실제값이 제거된 데이터) 의 예측치 구하기\n",
        "\n",
        "> 일부 변수는 본인 의사에 맞게 수정해되 됨\n",
        "\n",
        "> 변수 선택은 주관적으로 시행해도됨 (불필요하다고 생각되면 제거해도됨)"
      ]
    },
    {
      "cell_type": "code",
      "source": [
        "col = data.columns\n",
        "print(\"전체 데이터 수는 {}개 입니다.\".format(len(data)))\n",
        "for col_value in col:\n",
        "  detect_null = sum(data[col_value].isnull())\n",
        "  print(\"{}에 포함된 결측값은 {}개 입니다\".format(col_value, detect_null))"
      ],
      "metadata": {
        "colab": {
          "base_uri": "https://localhost:8080/"
        },
        "id": "rDX0qAxU0944",
        "outputId": "6b0e8600-47f0-4eb1-cefb-eb8cf4221d6a"
      },
      "execution_count": 279,
      "outputs": [
        {
          "output_type": "stream",
          "name": "stdout",
          "text": [
            "전체 데이터 수는 5558개 입니다.\n",
            "Year에 포함된 결측값은 0개 입니다\n",
            "Kilometers_Driven에 포함된 결측값은 0개 입니다\n",
            "Fuel_Type에 포함된 결측값은 0개 입니다\n",
            "Owner_Type에 포함된 결측값은 0개 입니다\n",
            "Mileage에 포함된 결측값은 0개 입니다\n",
            "Engine에 포함된 결측값은 0개 입니다\n",
            "Power에 포함된 결측값은 0개 입니다\n",
            "Seats에 포함된 결측값은 2개 입니다\n",
            "New_Price에 포함된 결측값은 4785개 입니다\n",
            "Maker에 포함된 결측값은 0개 입니다\n",
            "Price에 포함된 결측값은 0개 입니다\n"
          ]
        }
      ]
    },
    {
      "cell_type": "code",
      "source": [
        "#결측값이 많은 New_Price 제거\n",
        "data_not_nullcolumns=['Year', 'Kilometers_Driven', 'Fuel_Type', 'Owner_Type', 'Mileage', 'Engine', 'Power', 'Seats', 'Maker', 'Price']\n",
        "data=data.loc[:,data_not_nullcolumns]\n",
        "data['Year']=data['Year'].astype('object')\n",
        "data['Seats']=data[\"Seats\"].astype('object')\n",
        "print(data.dtypes)\n",
        "data = pd.get_dummies(data,prefix_sep='_',drop_first=True)"
      ],
      "metadata": {
        "colab": {
          "base_uri": "https://localhost:8080/"
        },
        "id": "6sFQcYS21pMG",
        "outputId": "a492883b-1695-4247-c716-67ef4df322e0"
      },
      "execution_count": 281,
      "outputs": [
        {
          "output_type": "stream",
          "name": "stdout",
          "text": [
            "Year                  object\n",
            "Kilometers_Driven      int64\n",
            "Fuel_Type             object\n",
            "Owner_Type            object\n",
            "Mileage              float64\n",
            "Engine                 int64\n",
            "Power                float64\n",
            "Seats                 object\n",
            "Maker                 object\n",
            "Price                float64\n",
            "dtype: object\n"
          ]
        }
      ]
    },
    {
      "cell_type": "code",
      "source": [
        "#상관계수 분석\n",
        "col = data.columns\n",
        "col2 = []\n",
        "for col1 in col:\n",
        "    corr,p= st.pearsonr(data['Price'],data[col1])\n",
        "    # p<0.05이고, corr가 0.5초과, -0.5미만인 특징 추출\n",
        "    if (p<0.05) and ((corr>0.5) or (corr<-0.5)):\n",
        "        print(\"Price와 {} 사이의 상관계수는 {:2f}이고, p-value는 {:2f}입니다.\".format(col1, corr,p))\n",
        "        col2.append(col1)\n",
        "print(col2)\n",
        "\n",
        "data=data.loc[:,col2]\n",
        "data.head()"
      ],
      "metadata": {
        "colab": {
          "base_uri": "https://localhost:8080/",
          "height": 280
        },
        "id": "8jxZhsFCKijp",
        "outputId": "b10639d2-a8be-478f-e358-f9b8238c9abb"
      },
      "execution_count": 282,
      "outputs": [
        {
          "output_type": "stream",
          "name": "stdout",
          "text": [
            "Price와 Engine 사이의 상관계수는 0.651252이고, p-value는 0.000000입니다.\n",
            "Price와 Power 사이의 상관계수는 0.764591이고, p-value는 0.000000입니다.\n",
            "Price와 Price 사이의 상관계수는 1.000000이고, p-value는 0.000000입니다.\n",
            "['Engine', 'Power', 'Price']\n"
          ]
        },
        {
          "output_type": "execute_result",
          "data": {
            "text/plain": [
              "   Engine   Power  Price\n",
              "0    1582  126.20  12.50\n",
              "1    1199   88.70   4.50\n",
              "2    1248   88.76   6.00\n",
              "3    1968  140.80  17.74\n",
              "4    1461   63.10   3.50"
            ],
            "text/html": [
              "\n",
              "  <div id=\"df-60ca6dd5-7637-4ca7-8a95-98c3040a1078\">\n",
              "    <div class=\"colab-df-container\">\n",
              "      <div>\n",
              "<style scoped>\n",
              "    .dataframe tbody tr th:only-of-type {\n",
              "        vertical-align: middle;\n",
              "    }\n",
              "\n",
              "    .dataframe tbody tr th {\n",
              "        vertical-align: top;\n",
              "    }\n",
              "\n",
              "    .dataframe thead th {\n",
              "        text-align: right;\n",
              "    }\n",
              "</style>\n",
              "<table border=\"1\" class=\"dataframe\">\n",
              "  <thead>\n",
              "    <tr style=\"text-align: right;\">\n",
              "      <th></th>\n",
              "      <th>Engine</th>\n",
              "      <th>Power</th>\n",
              "      <th>Price</th>\n",
              "    </tr>\n",
              "  </thead>\n",
              "  <tbody>\n",
              "    <tr>\n",
              "      <th>0</th>\n",
              "      <td>1582</td>\n",
              "      <td>126.20</td>\n",
              "      <td>12.50</td>\n",
              "    </tr>\n",
              "    <tr>\n",
              "      <th>1</th>\n",
              "      <td>1199</td>\n",
              "      <td>88.70</td>\n",
              "      <td>4.50</td>\n",
              "    </tr>\n",
              "    <tr>\n",
              "      <th>2</th>\n",
              "      <td>1248</td>\n",
              "      <td>88.76</td>\n",
              "      <td>6.00</td>\n",
              "    </tr>\n",
              "    <tr>\n",
              "      <th>3</th>\n",
              "      <td>1968</td>\n",
              "      <td>140.80</td>\n",
              "      <td>17.74</td>\n",
              "    </tr>\n",
              "    <tr>\n",
              "      <th>4</th>\n",
              "      <td>1461</td>\n",
              "      <td>63.10</td>\n",
              "      <td>3.50</td>\n",
              "    </tr>\n",
              "  </tbody>\n",
              "</table>\n",
              "</div>\n",
              "      <button class=\"colab-df-convert\" onclick=\"convertToInteractive('df-60ca6dd5-7637-4ca7-8a95-98c3040a1078')\"\n",
              "              title=\"Convert this dataframe to an interactive table.\"\n",
              "              style=\"display:none;\">\n",
              "        \n",
              "  <svg xmlns=\"http://www.w3.org/2000/svg\" height=\"24px\"viewBox=\"0 0 24 24\"\n",
              "       width=\"24px\">\n",
              "    <path d=\"M0 0h24v24H0V0z\" fill=\"none\"/>\n",
              "    <path d=\"M18.56 5.44l.94 2.06.94-2.06 2.06-.94-2.06-.94-.94-2.06-.94 2.06-2.06.94zm-11 1L8.5 8.5l.94-2.06 2.06-.94-2.06-.94L8.5 2.5l-.94 2.06-2.06.94zm10 10l.94 2.06.94-2.06 2.06-.94-2.06-.94-.94-2.06-.94 2.06-2.06.94z\"/><path d=\"M17.41 7.96l-1.37-1.37c-.4-.4-.92-.59-1.43-.59-.52 0-1.04.2-1.43.59L10.3 9.45l-7.72 7.72c-.78.78-.78 2.05 0 2.83L4 21.41c.39.39.9.59 1.41.59.51 0 1.02-.2 1.41-.59l7.78-7.78 2.81-2.81c.8-.78.8-2.07 0-2.86zM5.41 20L4 18.59l7.72-7.72 1.47 1.35L5.41 20z\"/>\n",
              "  </svg>\n",
              "      </button>\n",
              "      \n",
              "  <style>\n",
              "    .colab-df-container {\n",
              "      display:flex;\n",
              "      flex-wrap:wrap;\n",
              "      gap: 12px;\n",
              "    }\n",
              "\n",
              "    .colab-df-convert {\n",
              "      background-color: #E8F0FE;\n",
              "      border: none;\n",
              "      border-radius: 50%;\n",
              "      cursor: pointer;\n",
              "      display: none;\n",
              "      fill: #1967D2;\n",
              "      height: 32px;\n",
              "      padding: 0 0 0 0;\n",
              "      width: 32px;\n",
              "    }\n",
              "\n",
              "    .colab-df-convert:hover {\n",
              "      background-color: #E2EBFA;\n",
              "      box-shadow: 0px 1px 2px rgba(60, 64, 67, 0.3), 0px 1px 3px 1px rgba(60, 64, 67, 0.15);\n",
              "      fill: #174EA6;\n",
              "    }\n",
              "\n",
              "    [theme=dark] .colab-df-convert {\n",
              "      background-color: #3B4455;\n",
              "      fill: #D2E3FC;\n",
              "    }\n",
              "\n",
              "    [theme=dark] .colab-df-convert:hover {\n",
              "      background-color: #434B5C;\n",
              "      box-shadow: 0px 1px 3px 1px rgba(0, 0, 0, 0.15);\n",
              "      filter: drop-shadow(0px 1px 2px rgba(0, 0, 0, 0.3));\n",
              "      fill: #FFFFFF;\n",
              "    }\n",
              "  </style>\n",
              "\n",
              "      <script>\n",
              "        const buttonEl =\n",
              "          document.querySelector('#df-60ca6dd5-7637-4ca7-8a95-98c3040a1078 button.colab-df-convert');\n",
              "        buttonEl.style.display =\n",
              "          google.colab.kernel.accessAllowed ? 'block' : 'none';\n",
              "\n",
              "        async function convertToInteractive(key) {\n",
              "          const element = document.querySelector('#df-60ca6dd5-7637-4ca7-8a95-98c3040a1078');\n",
              "          const dataTable =\n",
              "            await google.colab.kernel.invokeFunction('convertToInteractive',\n",
              "                                                     [key], {});\n",
              "          if (!dataTable) return;\n",
              "\n",
              "          const docLinkHtml = 'Like what you see? Visit the ' +\n",
              "            '<a target=\"_blank\" href=https://colab.research.google.com/notebooks/data_table.ipynb>data table notebook</a>'\n",
              "            + ' to learn more about interactive tables.';\n",
              "          element.innerHTML = '';\n",
              "          dataTable['output_type'] = 'display_data';\n",
              "          await google.colab.output.renderOutput(dataTable, element);\n",
              "          const docLink = document.createElement('div');\n",
              "          docLink.innerHTML = docLinkHtml;\n",
              "          element.appendChild(docLink);\n",
              "        }\n",
              "      </script>\n",
              "    </div>\n",
              "  </div>\n",
              "  "
            ]
          },
          "metadata": {},
          "execution_count": 282
        }
      ]
    },
    {
      "cell_type": "code",
      "source": [
        "#train, test 셋으로 나누기\n",
        "train, test = train_test_split(data, train_size = 0.8)\n",
        "train = train.reset_index(drop=True)\n",
        "test = test.reset_index(drop=True)\n",
        "print(len(train))\n",
        "print(len(test))\n",
        "\n",
        "col = list(train.columns)\n",
        "col.remove('Price')\n",
        "\n",
        "trainY = train['Price'].to_numpy()\n",
        "trainX = train.loc[:,col].to_numpy()\n",
        "\n",
        "testY = test['Price'].to_numpy()\n",
        "testX = test.loc[:,col].to_numpy()\n",
        "trainX"
      ],
      "metadata": {
        "colab": {
          "base_uri": "https://localhost:8080/"
        },
        "id": "1jJ8z9B8U2k8",
        "outputId": "9ebc89a4-8eb6-4249-d05f-7387aa844ec1"
      },
      "execution_count": 236,
      "outputs": [
        {
          "output_type": "stream",
          "name": "stdout",
          "text": [
            "4446\n",
            "1112\n"
          ]
        },
        {
          "output_type": "execute_result",
          "data": {
            "text/plain": [
              "array([[ 624. ,   35. ],\n",
              "       [1998. ,  132. ],\n",
              "       [1199. ,   73.9],\n",
              "       ...,\n",
              "       [2143. ,  170. ],\n",
              "       [1995. ,  184. ],\n",
              "       [1197. ,   85.8]])"
            ]
          },
          "metadata": {},
          "execution_count": 236
        }
      ]
    },
    {
      "cell_type": "code",
      "source": [
        "import sklearn.preprocessing \n",
        "scaler = sklearn.preprocessing.MinMaxScaler()\n",
        "trainX = scaler.fit_transform(trainX)\n",
        "testX = scaler.fit_transform(testX)\n",
        "print(trainX)\n",
        "\n",
        "model = LinearRegression(fit_intercept = False, normalize=True, copy_X=True)\n",
        "print(model)\n",
        "model.fit(trainX, trainY)\n",
        "\n",
        "print('R-square: {}'.format(model.score(trainX, trainY)))\n",
        "print('R-square: {}'.format(model.score(testX, testY)))"
      ],
      "metadata": {
        "colab": {
          "base_uri": "https://localhost:8080/"
        },
        "id": "96_xlaZCWELM",
        "outputId": "0151854c-a3e8-44f0-a650-87139790cca1"
      },
      "execution_count": 283,
      "outputs": [
        {
          "output_type": "stream",
          "name": "stdout",
          "text": [
            "[[0.         0.001545  ]\n",
            " [0.25567547 0.18887601]\n",
            " [0.10699665 0.07667053]\n",
            " ...\n",
            " [0.28265724 0.26226342]\n",
            " [0.25511723 0.28930089]\n",
            " [0.10662449 0.09965238]]\n",
            "LinearRegression(fit_intercept=False, normalize=True)\n",
            "R-square: 0.5590775298023285\n",
            "R-square: 0.5242302225255642\n"
          ]
        },
        {
          "output_type": "stream",
          "name": "stderr",
          "text": [
            "/usr/local/lib/python3.7/dist-packages/sklearn/linear_model/_base.py:145: FutureWarning: 'normalize' was deprecated in version 1.0 and will be removed in 1.2.\n",
            "If you wish to scale the data, use Pipeline with a StandardScaler in a preprocessing stage. To reproduce the previous behavior:\n",
            "\n",
            "from sklearn.pipeline import make_pipeline\n",
            "\n",
            "model = make_pipeline(StandardScaler(with_mean=False), LinearRegression())\n",
            "\n",
            "If you wish to pass a sample_weight parameter, you need to pass it as a fit parameter to each step of the pipeline as follows:\n",
            "\n",
            "kwargs = {s[0] + '__sample_weight': sample_weight for s in model.steps}\n",
            "model.fit(X, y, **kwargs)\n",
            "\n",
            "\n",
            "  FutureWarning,\n"
          ]
        }
      ]
    },
    {
      "cell_type": "code",
      "source": [
        "#test데이터 불러오기\n",
        "data_path = \"/content/drive/My Drive/산업데이터과학/data/test_car.csv\" \n",
        "datatest = pd.read_csv(data_path)\n",
        "datatest.head()\n",
        "datatest.columns\n",
        "data_not_nullcolumns=['Engine', 'Power']\n",
        "datatest=datatest.loc[:,data_not_nullcolumns]\n",
        "print(datatest.dtypes)\n",
        "datatest.head()\n",
        "\n",
        "resX = datatest.loc[:].to_numpy()\n",
        "\n",
        "resX = scaler.fit_transform(resX)"
      ],
      "metadata": {
        "colab": {
          "base_uri": "https://localhost:8080/"
        },
        "id": "xjhVFiG4bbGk",
        "outputId": "5f9dee23-1d1d-48f1-9f8e-a4b33daf46f2"
      },
      "execution_count": 247,
      "outputs": [
        {
          "output_type": "stream",
          "name": "stdout",
          "text": [
            "Engine      int64\n",
            "Power     float64\n",
            "dtype: object\n"
          ]
        }
      ]
    },
    {
      "cell_type": "code",
      "source": [
        "testcar_predict = model.predict(resX)\n",
        "res = pd.concat([pd.DataFrame(abs(testcar_predict)), pd.DataFrame(datatest)],axis=1)\n",
        "res.columns=['Predict Price', 'Engine', 'Power']\n",
        "print(res)"
      ],
      "metadata": {
        "colab": {
          "base_uri": "https://localhost:8080/"
        },
        "id": "ye488_1wWTAd",
        "outputId": "e77239f0-7e72-47fd-fd07-47add89b5d5d"
      },
      "execution_count": 248,
      "outputs": [
        {
          "output_type": "stream",
          "name": "stdout",
          "text": [
            "     Predict Price  Engine   Power\n",
            "0        18.395140    1968  174.33\n",
            "1         6.152890    1197   83.10\n",
            "2        20.893082    2199  194.30\n",
            "3        16.618497    1998  163.70\n",
            "4        22.597939    2143  204.00\n",
            "..             ...     ...     ...\n",
            "245       6.113168    1197   82.85\n",
            "246      18.395140    1968  174.33\n",
            "247       8.222369    1598  103.50\n",
            "248       4.182686     998   67.04\n",
            "249       5.716195    1341   83.00\n",
            "\n",
            "[250 rows x 3 columns]\n"
          ]
        }
      ]
    },
    {
      "cell_type": "code",
      "source": [
        "res.to_csv('/content/drive/My Drive/산업데이터과학/data/test_car Predict.csv')"
      ],
      "metadata": {
        "id": "PCrcXnexnewZ"
      },
      "execution_count": 249,
      "outputs": []
    }
  ]
}